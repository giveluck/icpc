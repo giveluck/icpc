{
  "nbformat": 4,
  "nbformat_minor": 0,
  "metadata": {
    "colab": {
      "provenance": [],
      "authorship_tag": "ABX9TyO7F5QST8yntWcQf1rasCy+",
      "include_colab_link": true
    },
    "kernelspec": {
      "name": "python3",
      "display_name": "Python 3"
    },
    "language_info": {
      "name": "python"
    },
    "accelerator": "GPU",
    "gpuClass": "standard"
  },
  "cells": [
    {
      "cell_type": "markdown",
      "metadata": {
        "id": "view-in-github",
        "colab_type": "text"
      },
      "source": [
        "<a href=\"https://colab.research.google.com/github/giveluck/icpc/blob/master/deep_learning.ipynb\" target=\"_parent\"><img src=\"https://colab.research.google.com/assets/colab-badge.svg\" alt=\"Open In Colab\"/></a>"
      ]
    },
    {
      "cell_type": "code",
      "source": [
        "!df -h"
      ],
      "metadata": {
        "colab": {
          "base_uri": "https://localhost:8080/"
        },
        "id": "NJAMWfQgRa4b",
        "outputId": "8b2a91a4-4646-4935-ad7a-4b11de9d3665"
      },
      "execution_count": 1,
      "outputs": [
        {
          "output_type": "stream",
          "name": "stdout",
          "text": [
            "Filesystem      Size  Used Avail Use% Mounted on\n",
            "overlay          79G   23G   56G  30% /\n",
            "tmpfs            64M     0   64M   0% /dev\n",
            "shm             5.7G     0  5.7G   0% /dev/shm\n",
            "/dev/root       2.0G  1.1G  910M  54% /sbin/docker-init\n",
            "tmpfs           6.4G   40K  6.4G   1% /var/colab\n",
            "/dev/sda1        50G   25G   26G  49% /opt/bin/.nvidia\n",
            "tmpfs           6.4G     0  6.4G   0% /proc/acpi\n",
            "tmpfs           6.4G     0  6.4G   0% /proc/scsi\n",
            "tmpfs           6.4G     0  6.4G   0% /sys/firmware\n"
          ]
        }
      ]
    },
    {
      "cell_type": "code",
      "source": [
        "!cat /proc/meminfo"
      ],
      "metadata": {
        "colab": {
          "base_uri": "https://localhost:8080/"
        },
        "id": "rn23ZYpLSjP6",
        "outputId": "9ea733b8-37b2-428e-b5d6-e8a367cd69ba"
      },
      "execution_count": 2,
      "outputs": [
        {
          "output_type": "stream",
          "name": "stdout",
          "text": [
            "MemTotal:       13297228 kB\n",
            "MemFree:        10611664 kB\n",
            "MemAvailable:   12404384 kB\n",
            "Buffers:           61752 kB\n",
            "Cached:          1885868 kB\n",
            "SwapCached:            0 kB\n",
            "Active:           618700 kB\n",
            "Inactive:        1836052 kB\n",
            "Active(anon):        992 kB\n",
            "Inactive(anon):   460552 kB\n",
            "Active(file):     617708 kB\n",
            "Inactive(file):  1375500 kB\n",
            "Unevictable:           0 kB\n",
            "Mlocked:               0 kB\n",
            "SwapTotal:             0 kB\n",
            "SwapFree:              0 kB\n",
            "Dirty:              1128 kB\n",
            "Writeback:             0 kB\n",
            "AnonPages:        507172 kB\n",
            "Mapped:           234832 kB\n",
            "Shmem:              1296 kB\n",
            "KReclaimable:      81924 kB\n",
            "Slab:             116744 kB\n",
            "SReclaimable:      81924 kB\n",
            "SUnreclaim:        34820 kB\n",
            "KernelStack:        4864 kB\n",
            "PageTables:         9116 kB\n",
            "NFS_Unstable:          0 kB\n",
            "Bounce:                0 kB\n",
            "WritebackTmp:          0 kB\n",
            "CommitLimit:     6648612 kB\n",
            "Committed_AS:    2874336 kB\n",
            "VmallocTotal:   34359738367 kB\n",
            "VmallocUsed:       49440 kB\n",
            "VmallocChunk:          0 kB\n",
            "Percpu:             1424 kB\n",
            "HardwareCorrupted:     0 kB\n",
            "AnonHugePages:         0 kB\n",
            "ShmemHugePages:        0 kB\n",
            "ShmemPmdMapped:        0 kB\n",
            "FileHugePages:         0 kB\n",
            "FilePmdMapped:         0 kB\n",
            "CmaTotal:              0 kB\n",
            "CmaFree:               0 kB\n",
            "HugePages_Total:       0\n",
            "HugePages_Free:        0\n",
            "HugePages_Rsvd:        0\n",
            "HugePages_Surp:        0\n",
            "Hugepagesize:       2048 kB\n",
            "Hugetlb:               0 kB\n",
            "DirectMap4k:      140096 kB\n",
            "DirectMap2M:     5099520 kB\n",
            "DirectMap1G:    10485760 kB\n"
          ]
        }
      ]
    },
    {
      "cell_type": "code",
      "source": [
        "!nvidia-smi"
      ],
      "metadata": {
        "colab": {
          "base_uri": "https://localhost:8080/"
        },
        "id": "JCo0bd-OSv1C",
        "outputId": "1d3426da-732c-4817-acac-39835cfa15a0"
      },
      "execution_count": 4,
      "outputs": [
        {
          "output_type": "stream",
          "name": "stdout",
          "text": [
            "Mon Oct 31 04:27:29 2022       \n",
            "+-----------------------------------------------------------------------------+\n",
            "| NVIDIA-SMI 460.32.03    Driver Version: 460.32.03    CUDA Version: 11.2     |\n",
            "|-------------------------------+----------------------+----------------------+\n",
            "| GPU  Name        Persistence-M| Bus-Id        Disp.A | Volatile Uncorr. ECC |\n",
            "| Fan  Temp  Perf  Pwr:Usage/Cap|         Memory-Usage | GPU-Util  Compute M. |\n",
            "|                               |                      |               MIG M. |\n",
            "|===============================+======================+======================|\n",
            "|   0  Tesla T4            Off  | 00000000:00:04.0 Off |                    0 |\n",
            "| N/A   45C    P8     9W /  70W |      0MiB / 15109MiB |      0%      Default |\n",
            "|                               |                      |                  N/A |\n",
            "+-------------------------------+----------------------+----------------------+\n",
            "                                                                               \n",
            "+-----------------------------------------------------------------------------+\n",
            "| Processes:                                                                  |\n",
            "|  GPU   GI   CI        PID   Type   Process name                  GPU Memory |\n",
            "|        ID   ID                                                   Usage      |\n",
            "|=============================================================================|\n",
            "|  No running processes found                                                 |\n",
            "+-----------------------------------------------------------------------------+\n"
          ]
        }
      ]
    },
    {
      "cell_type": "code",
      "source": [
        "import numpy as numpy \n",
        "import tensorflow as tf\n",
        "import matplotlib.pyplot as plt\n",
        "# 데이터다운로드\n",
        "(train_data, train_labels), (test_data, test_labels) = tf.keras.datasets.imdb.load_data(num_words= 1000)"
      ],
      "metadata": {
        "colab": {
          "base_uri": "https://localhost:8080/"
        },
        "id": "zKUh1Xb-TCpC",
        "outputId": "a24143a6-5a9e-4549-81c5-2aa67bd33ae9"
      },
      "execution_count": 6,
      "outputs": [
        {
          "output_type": "stream",
          "name": "stdout",
          "text": [
            "Downloading data from https://storage.googleapis.com/tensorflow/tf-keras-datasets/imdb.npz\n",
            "17464789/17464789 [==============================] - 0s 0us/step\n"
          ]
        }
      ]
    },
    {
      "cell_type": "code",
      "source": [
        "def one_hot_sequences(sequences, dimension = 1000):\n",
        "  results = numpy.zeros((len(sequences), dimension))\n",
        "  for i, word_index in enumerate(sequences):\n",
        "       results[i, word_index] = 1\n",
        "  return results"
      ],
      "metadata": {
        "id": "E9aVH6AkWPw0"
      },
      "execution_count": 11,
      "outputs": []
    },
    {
      "cell_type": "code",
      "source": [
        "train_data = one_hot_sequences(train_data)\n",
        "test_data= one_hot_sequences(test_data)\n",
        "# 신경망모델구성\n",
        "model = tf.keras.Sequential()\n",
        "model.add(tf.keras.layers.Dense(16, activation = 'relu', input_shape= (1000,)))\n",
        "model.add(tf.keras.layers.Dense(16, activation = 'relu'))\n",
        "model.add(tf.keras.layers.Dense(1, activation = 'sigmoid'))"
      ],
      "metadata": {
        "id": "VjISi_YcWlLj"
      },
      "execution_count": 12,
      "outputs": []
    },
    {
      "cell_type": "code",
      "source": [
        "model.compile(loss = 'binary_crossentropy', optimizer = 'adam',\n",
        "              metrics = ['accuracy'])\n",
        "# 신경망훈련, 검증데이터전달\n",
        "history = model.fit(train_data,\n",
        "                    train_labels,\n",
        "                    epochs = 20,\n",
        "                    batch_size= 512,\n",
        "                    validation_data= (test_data, test_labels),\n",
        "                    verbose = 2)"
      ],
      "metadata": {
        "colab": {
          "base_uri": "https://localhost:8080/"
        },
        "id": "XtW7-wxQXDEL",
        "outputId": "5094aefe-b230-4383-b0a8-897e6a761bd2"
      },
      "execution_count": 13,
      "outputs": [
        {
          "output_type": "stream",
          "name": "stdout",
          "text": [
            "Epoch 1/20\n",
            "49/49 - 3s - loss: 0.5632 - accuracy: 0.7170 - val_loss: 0.4194 - val_accuracy: 0.8242 - 3s/epoch - 62ms/step\n",
            "Epoch 2/20\n",
            "49/49 - 0s - loss: 0.3595 - accuracy: 0.8527 - val_loss: 0.3496 - val_accuracy: 0.8526 - 316ms/epoch - 6ms/step\n",
            "Epoch 3/20\n",
            "49/49 - 0s - loss: 0.3189 - accuracy: 0.8693 - val_loss: 0.3362 - val_accuracy: 0.8569 - 321ms/epoch - 7ms/step\n",
            "Epoch 4/20\n",
            "49/49 - 0s - loss: 0.3081 - accuracy: 0.8732 - val_loss: 0.3291 - val_accuracy: 0.8595 - 282ms/epoch - 6ms/step\n",
            "Epoch 5/20\n",
            "49/49 - 0s - loss: 0.3044 - accuracy: 0.8745 - val_loss: 0.3374 - val_accuracy: 0.8574 - 305ms/epoch - 6ms/step\n",
            "Epoch 6/20\n",
            "49/49 - 0s - loss: 0.2993 - accuracy: 0.8781 - val_loss: 0.3313 - val_accuracy: 0.8601 - 305ms/epoch - 6ms/step\n",
            "Epoch 7/20\n",
            "49/49 - 0s - loss: 0.2951 - accuracy: 0.8791 - val_loss: 0.3315 - val_accuracy: 0.8586 - 286ms/epoch - 6ms/step\n",
            "Epoch 8/20\n",
            "49/49 - 0s - loss: 0.2920 - accuracy: 0.8799 - val_loss: 0.3325 - val_accuracy: 0.8589 - 287ms/epoch - 6ms/step\n",
            "Epoch 9/20\n",
            "49/49 - 0s - loss: 0.2882 - accuracy: 0.8815 - val_loss: 0.3343 - val_accuracy: 0.8586 - 315ms/epoch - 6ms/step\n",
            "Epoch 10/20\n",
            "49/49 - 0s - loss: 0.2843 - accuracy: 0.8828 - val_loss: 0.3355 - val_accuracy: 0.8562 - 323ms/epoch - 7ms/step\n",
            "Epoch 11/20\n",
            "49/49 - 0s - loss: 0.2791 - accuracy: 0.8847 - val_loss: 0.3372 - val_accuracy: 0.8568 - 289ms/epoch - 6ms/step\n",
            "Epoch 12/20\n",
            "49/49 - 0s - loss: 0.2745 - accuracy: 0.8872 - val_loss: 0.3442 - val_accuracy: 0.8531 - 318ms/epoch - 6ms/step\n",
            "Epoch 13/20\n",
            "49/49 - 0s - loss: 0.2707 - accuracy: 0.8888 - val_loss: 0.3506 - val_accuracy: 0.8520 - 297ms/epoch - 6ms/step\n",
            "Epoch 14/20\n",
            "49/49 - 0s - loss: 0.2645 - accuracy: 0.8925 - val_loss: 0.3431 - val_accuracy: 0.8539 - 307ms/epoch - 6ms/step\n",
            "Epoch 15/20\n",
            "49/49 - 0s - loss: 0.2601 - accuracy: 0.8941 - val_loss: 0.3446 - val_accuracy: 0.8540 - 307ms/epoch - 6ms/step\n",
            "Epoch 16/20\n",
            "49/49 - 0s - loss: 0.2563 - accuracy: 0.8956 - val_loss: 0.3493 - val_accuracy: 0.8539 - 335ms/epoch - 7ms/step\n",
            "Epoch 17/20\n",
            "49/49 - 0s - loss: 0.2506 - accuracy: 0.8972 - val_loss: 0.3519 - val_accuracy: 0.8528 - 315ms/epoch - 6ms/step\n",
            "Epoch 18/20\n",
            "49/49 - 0s - loss: 0.2448 - accuracy: 0.9005 - val_loss: 0.3567 - val_accuracy: 0.8523 - 311ms/epoch - 6ms/step\n",
            "Epoch 19/20\n",
            "49/49 - 0s - loss: 0.2402 - accuracy: 0.9029 - val_loss: 0.3596 - val_accuracy: 0.8498 - 315ms/epoch - 6ms/step\n",
            "Epoch 20/20\n",
            "49/49 - 0s - loss: 0.2356 - accuracy: 0.9052 - val_loss: 0.3662 - val_accuracy: 0.8477 - 305ms/epoch - 6ms/step\n"
          ]
        }
      ]
    },
    {
      "cell_type": "code",
      "source": [
        "history_dict = history.history\n",
        "loss_values= history_dict['loss']# 훈련데이터의손실값\n",
        "Val_loss_values= history_dict['val_loss']# 검증데이터의손실값\n",
        "Acc= history_dict['accuracy']# 정확도\n",
        "Epochs = range(1, len(Acc) + 1)# Epoch의수"
      ],
      "metadata": {
        "id": "YuGYbhoPXkzb"
      },
      "execution_count": 16,
      "outputs": []
    },
    {
      "cell_type": "code",
      "source": [
        "plt.plot(history.history['loss'])\n",
        "plt.plot(history.history['val_loss'])\n",
        "plt.title('Loss Plot')\n",
        "plt.ylabel('Loss')\n",
        "plt.xlabel('Epochs')\n",
        "plt.legend(['Train error', 'Val error'], loc= 'Upper Left') \n",
        "plt.show()"
      ],
      "metadata": {
        "colab": {
          "base_uri": "https://localhost:8080/",
          "height": 552
        },
        "id": "c_OAepC0X9kj",
        "outputId": "76ba395a-a5e7-4bb0-f51d-5ca1f75e4c85"
      },
      "execution_count": 17,
      "outputs": [
        {
          "output_type": "stream",
          "name": "stderr",
          "text": [
            "/usr/local/lib/python3.7/dist-packages/ipykernel_launcher.py:6: MatplotlibDeprecationWarning: Unrecognized location 'Upper Left'. Falling back on 'best'; valid locations are\n",
            "\tbest\n",
            "\tupper right\n",
            "\tupper left\n",
            "\tlower left\n",
            "\tlower right\n",
            "\tright\n",
            "\tcenter left\n",
            "\tcenter right\n",
            "\tlower center\n",
            "\tupper center\n",
            "\tcenter\n",
            "This will raise an exception in 3.3.\n",
            "  \n"
          ]
        },
        {
          "output_type": "display_data",
          "data": {
            "text/plain": [
              "<Figure size 432x288 with 1 Axes>"
            ],
            "image/png": "[encoded data removed]"
          },
          "metadata": {
            "needs_background": "light"
          }
        }
      ]
    },
    {
      "cell_type": "code",
      "source": [
        "model = tf.keras.Sequential()\n",
        "model.add(tf.keras.layers.Dense(16, kernel_regularizer= tf.keras.regularizers.l2(0.001),\n",
        "                      activation = 'relu', input_shape= (1000,)))\n",
        "model.add(tf.keras.layers.Dense(16, kernel_regularizer= tf.keras.regularizers.l2(0.001),\n",
        "                      activation = 'relu'))\n",
        "model.add(tf.keras.layers.Dense(1, activation = 'sigmoid'))"
      ],
      "metadata": {
        "id": "xFvOA8bpYiib"
      },
      "execution_count": 18,
      "outputs": []
    },
    {
      "cell_type": "code",
      "source": [
        "model.compile(loss = 'binary_crossentropy', optimizer = 'adam',\n",
        "              metrics = ['accuracy'])\n",
        "history = model.fit(train_data,\n",
        "                    train_labels,\n",
        "                    epochs = 20,\n",
        "                    batch_size= 512,\n",
        "                    validation_data= (test_data, test_labels),\n",
        "                    verbose = 2)"
      ],
      "metadata": {
        "colab": {
          "base_uri": "https://localhost:8080/"
        },
        "id": "3DNBGW6VYwxq",
        "outputId": "280bf738-d634-4b25-9cb8-4ae7ff9859e1"
      },
      "execution_count": 19,
      "outputs": [
        {
          "output_type": "stream",
          "name": "stdout",
          "text": [
            "Epoch 1/20\n",
            "49/49 - 1s - loss: 0.6134 - accuracy: 0.7142 - val_loss: 0.4719 - val_accuracy: 0.8218 - 992ms/epoch - 20ms/step\n",
            "Epoch 2/20\n",
            "49/49 - 0s - loss: 0.4124 - accuracy: 0.8465 - val_loss: 0.3885 - val_accuracy: 0.8544 - 316ms/epoch - 6ms/step\n",
            "Epoch 3/20\n",
            "49/49 - 0s - loss: 0.3641 - accuracy: 0.8649 - val_loss: 0.3702 - val_accuracy: 0.8598 - 315ms/epoch - 6ms/step\n",
            "Epoch 4/20\n",
            "49/49 - 0s - loss: 0.3491 - accuracy: 0.8710 - val_loss: 0.3655 - val_accuracy: 0.8602 - 329ms/epoch - 7ms/step\n",
            "Epoch 5/20\n",
            "49/49 - 0s - loss: 0.3417 - accuracy: 0.8729 - val_loss: 0.3643 - val_accuracy: 0.8601 - 285ms/epoch - 6ms/step\n",
            "Epoch 6/20\n",
            "49/49 - 0s - loss: 0.3382 - accuracy: 0.8748 - val_loss: 0.3635 - val_accuracy: 0.8591 - 336ms/epoch - 7ms/step\n",
            "Epoch 7/20\n",
            "49/49 - 0s - loss: 0.3326 - accuracy: 0.8765 - val_loss: 0.3585 - val_accuracy: 0.8602 - 327ms/epoch - 7ms/step\n",
            "Epoch 8/20\n",
            "49/49 - 0s - loss: 0.3303 - accuracy: 0.8765 - val_loss: 0.3570 - val_accuracy: 0.8594 - 294ms/epoch - 6ms/step\n",
            "Epoch 9/20\n",
            "49/49 - 0s - loss: 0.3278 - accuracy: 0.8764 - val_loss: 0.3562 - val_accuracy: 0.8595 - 291ms/epoch - 6ms/step\n",
            "Epoch 10/20\n",
            "49/49 - 0s - loss: 0.3259 - accuracy: 0.8768 - val_loss: 0.3565 - val_accuracy: 0.8593 - 303ms/epoch - 6ms/step\n",
            "Epoch 11/20\n",
            "49/49 - 0s - loss: 0.3224 - accuracy: 0.8786 - val_loss: 0.3553 - val_accuracy: 0.8596 - 296ms/epoch - 6ms/step\n",
            "Epoch 12/20\n",
            "49/49 - 0s - loss: 0.3188 - accuracy: 0.8799 - val_loss: 0.3598 - val_accuracy: 0.8569 - 317ms/epoch - 6ms/step\n",
            "Epoch 13/20\n",
            "49/49 - 0s - loss: 0.3172 - accuracy: 0.8806 - val_loss: 0.3568 - val_accuracy: 0.8583 - 282ms/epoch - 6ms/step\n",
            "Epoch 14/20\n",
            "49/49 - 0s - loss: 0.3114 - accuracy: 0.8829 - val_loss: 0.3534 - val_accuracy: 0.8597 - 300ms/epoch - 6ms/step\n",
            "Epoch 15/20\n",
            "49/49 - 0s - loss: 0.3082 - accuracy: 0.8839 - val_loss: 0.3612 - val_accuracy: 0.8570 - 283ms/epoch - 6ms/step\n",
            "Epoch 16/20\n",
            "49/49 - 0s - loss: 0.3045 - accuracy: 0.8869 - val_loss: 0.3595 - val_accuracy: 0.8568 - 321ms/epoch - 7ms/step\n",
            "Epoch 17/20\n",
            "49/49 - 0s - loss: 0.3015 - accuracy: 0.8883 - val_loss: 0.3607 - val_accuracy: 0.8572 - 325ms/epoch - 7ms/step\n",
            "Epoch 18/20\n",
            "49/49 - 0s - loss: 0.2997 - accuracy: 0.8886 - val_loss: 0.3582 - val_accuracy: 0.8586 - 276ms/epoch - 6ms/step\n",
            "Epoch 19/20\n",
            "49/49 - 0s - loss: 0.2929 - accuracy: 0.8917 - val_loss: 0.3615 - val_accuracy: 0.8581 - 294ms/epoch - 6ms/step\n",
            "Epoch 20/20\n",
            "49/49 - 0s - loss: 0.2908 - accuracy: 0.8935 - val_loss: 0.3620 - val_accuracy: 0.8586 - 316ms/epoch - 6ms/step\n"
          ]
        }
      ]
    },
    {
      "cell_type": "code",
      "source": [
        "history_dict = history.history\n",
        "loss_values= history_dict['loss']\n",
        "val_loss_values= history_dict['val_loss']\n",
        "acc= history_dict['accuracy']\n",
        "epochs = range(1, len(acc) + 1)"
      ],
      "metadata": {
        "id": "3reuO_i8ZRS7"
      },
      "execution_count": 20,
      "outputs": []
    },
    {
      "cell_type": "code",
      "source": [
        "plt.plot(history.history['loss'])\n",
        "plt.plot(history.history['val_loss'])\n",
        "plt.title('Loss Plot') \n",
        "plt.ylabel('Loss') \n",
        "plt.xlabel('Epochs') \n",
        "plt.legend(['Train error', 'Val error'], loc= 'Upper Left') \n",
        "plt.show()"
      ],
      "metadata": {
        "colab": {
          "base_uri": "https://localhost:8080/",
          "height": 552
        },
        "id": "50Ds2frDZZNT",
        "outputId": "e735c7bf-e434-44a6-f74d-8d59f18261aa"
      },
      "execution_count": 21,
      "outputs": [
        {
          "output_type": "stream",
          "name": "stderr",
          "text": [
            "/usr/local/lib/python3.7/dist-packages/ipykernel_launcher.py:6: MatplotlibDeprecationWarning: Unrecognized location 'Upper Left'. Falling back on 'best'; valid locations are\n",
            "\tbest\n",
            "\tupper right\n",
            "\tupper left\n",
            "\tlower left\n",
            "\tlower right\n",
            "\tright\n",
            "\tcenter left\n",
            "\tcenter right\n",
            "\tlower center\n",
            "\tupper center\n",
            "\tcenter\n",
            "This will raise an exception in 3.3.\n",
            "  \n"
          ]
        },
        {
          "output_type": "display_data",
          "data": {
            "text/plain": [
              "<Figure size 432x288 with 1 Axes>"
            ],
            "image/png": "[encoded data removed]"
          },
          "metadata": {
            "needs_background": "light"
          }
        }
      ]
    },
    {
      "cell_type": "code",
      "source": [
        "model = tf.keras.Sequential() \n",
        "model.add(tf.keras.layers.Dense(16, activation = 'relu', input_shape= (1000,))) \n",
        "model.add(tf.keras.layers.Dropout(0.5)) \n",
        "model.add(tf.keras.layers.Dense(16, activation = 'relu')) \n",
        "model.add(tf.keras.layers.Dropout(0.5)) \n",
        "model.add(tf.keras.layers.Dense(1, activation = 'sigmoid'))"
      ],
      "metadata": {
        "id": "3UEGpto6ah0y"
      },
      "execution_count": 22,
      "outputs": []
    },
    {
      "cell_type": "code",
      "source": [
        "model.compile(loss = 'binary_crossentropy', optimizer = 'adam',\n",
        "              metrics = ['accuracy'])\n",
        "history = model.fit(train_data,\n",
        "                    train_labels,\n",
        "                    epochs = 20,\n",
        "                    batch_size= 512,\n",
        "                    validation_data= (test_data, test_labels),\n",
        "                    verbose = 2)"
      ],
      "metadata": {
        "colab": {
          "base_uri": "https://localhost:8080/"
        },
        "id": "FzzWtTOzasJ6",
        "outputId": "0cccd348-4cab-40aa-eafa-a5ee8ec1225e"
      },
      "execution_count": 23,
      "outputs": [
        {
          "output_type": "stream",
          "name": "stdout",
          "text": [
            "Epoch 1/20\n",
            "49/49 - 1s - loss: 0.6818 - accuracy: 0.5494 - val_loss: 0.6277 - val_accuracy: 0.7266 - 984ms/epoch - 20ms/step\n",
            "Epoch 2/20\n",
            "49/49 - 0s - loss: 0.5980 - accuracy: 0.6699 - val_loss: 0.4833 - val_accuracy: 0.8164 - 317ms/epoch - 6ms/step\n",
            "Epoch 3/20\n",
            "49/49 - 0s - loss: 0.5045 - accuracy: 0.7600 - val_loss: 0.3917 - val_accuracy: 0.8443 - 486ms/epoch - 10ms/step\n",
            "Epoch 4/20\n",
            "49/49 - 1s - loss: 0.4429 - accuracy: 0.8028 - val_loss: 0.3500 - val_accuracy: 0.8544 - 613ms/epoch - 13ms/step\n",
            "Epoch 5/20\n",
            "49/49 - 1s - loss: 0.4048 - accuracy: 0.8280 - val_loss: 0.3374 - val_accuracy: 0.8587 - 586ms/epoch - 12ms/step\n",
            "Epoch 6/20\n",
            "49/49 - 1s - loss: 0.3800 - accuracy: 0.8404 - val_loss: 0.3244 - val_accuracy: 0.8605 - 674ms/epoch - 14ms/step\n",
            "Epoch 7/20\n",
            "49/49 - 0s - loss: 0.3684 - accuracy: 0.8478 - val_loss: 0.3221 - val_accuracy: 0.8611 - 328ms/epoch - 7ms/step\n",
            "Epoch 8/20\n",
            "49/49 - 0s - loss: 0.3562 - accuracy: 0.8548 - val_loss: 0.3240 - val_accuracy: 0.8600 - 313ms/epoch - 6ms/step\n",
            "Epoch 9/20\n",
            "49/49 - 0s - loss: 0.3481 - accuracy: 0.8580 - val_loss: 0.3218 - val_accuracy: 0.8617 - 303ms/epoch - 6ms/step\n",
            "Epoch 10/20\n",
            "49/49 - 0s - loss: 0.3378 - accuracy: 0.8645 - val_loss: 0.3228 - val_accuracy: 0.8621 - 304ms/epoch - 6ms/step\n",
            "Epoch 11/20\n",
            "49/49 - 0s - loss: 0.3289 - accuracy: 0.8673 - val_loss: 0.3247 - val_accuracy: 0.8613 - 334ms/epoch - 7ms/step\n",
            "Epoch 12/20\n",
            "49/49 - 0s - loss: 0.3226 - accuracy: 0.8691 - val_loss: 0.3255 - val_accuracy: 0.8622 - 323ms/epoch - 7ms/step\n",
            "Epoch 13/20\n",
            "49/49 - 0s - loss: 0.3185 - accuracy: 0.8699 - val_loss: 0.3251 - val_accuracy: 0.8602 - 301ms/epoch - 6ms/step\n",
            "Epoch 14/20\n",
            "49/49 - 0s - loss: 0.3140 - accuracy: 0.8744 - val_loss: 0.3263 - val_accuracy: 0.8590 - 312ms/epoch - 6ms/step\n",
            "Epoch 15/20\n",
            "49/49 - 0s - loss: 0.3124 - accuracy: 0.8737 - val_loss: 0.3283 - val_accuracy: 0.8596 - 319ms/epoch - 7ms/step\n",
            "Epoch 16/20\n",
            "49/49 - 0s - loss: 0.3021 - accuracy: 0.8794 - val_loss: 0.3343 - val_accuracy: 0.8597 - 324ms/epoch - 7ms/step\n",
            "Epoch 17/20\n",
            "49/49 - 0s - loss: 0.3031 - accuracy: 0.8783 - val_loss: 0.3347 - val_accuracy: 0.8596 - 333ms/epoch - 7ms/step\n",
            "Epoch 18/20\n",
            "49/49 - 0s - loss: 0.2972 - accuracy: 0.8786 - val_loss: 0.3405 - val_accuracy: 0.8572 - 487ms/epoch - 10ms/step\n",
            "Epoch 19/20\n",
            "49/49 - 0s - loss: 0.2956 - accuracy: 0.8799 - val_loss: 0.3388 - val_accuracy: 0.8574 - 324ms/epoch - 7ms/step\n",
            "Epoch 20/20\n",
            "49/49 - 0s - loss: 0.2924 - accuracy: 0.8803 - val_loss: 0.3386 - val_accuracy: 0.8568 - 313ms/epoch - 6ms/step\n"
          ]
        }
      ]
    },
    {
      "cell_type": "code",
      "source": [
        "history_dict = history.history\n",
        "loss_values= history_dict['loss']\n",
        "val_loss_values= history_dict['val_loss']\n",
        "acc= history_dict['accuracy']\n",
        "epochs = range(1, len(acc) + 1)"
      ],
      "metadata": {
        "id": "7xjRPNFjaxU7"
      },
      "execution_count": 24,
      "outputs": []
    },
    {
      "cell_type": "code",
      "source": [
        "plt.plot(history.history['loss'])\n",
        "plt.plot(history.history['val_loss'])\n",
        "plt.title('Loss Plot') \n",
        "plt.ylabel('Loss') \n",
        "plt.xlabel('Epochs') \n",
        "plt.legend(['Train error', 'Val error'], loc= 'Upper Left') \n",
        "plt.show()"
      ],
      "metadata": {
        "colab": {
          "base_uri": "https://localhost:8080/",
          "height": 552
        },
        "id": "JgtxGC1na1D7",
        "outputId": "df84863c-db66-46e9-f398-d7b425a01c18"
      },
      "execution_count": 25,
      "outputs": [
        {
          "output_type": "stream",
          "name": "stderr",
          "text": [
            "/usr/local/lib/python3.7/dist-packages/ipykernel_launcher.py:6: MatplotlibDeprecationWarning: Unrecognized location 'Upper Left'. Falling back on 'best'; valid locations are\n",
            "\tbest\n",
            "\tupper right\n",
            "\tupper left\n",
            "\tlower left\n",
            "\tlower right\n",
            "\tright\n",
            "\tcenter left\n",
            "\tcenter right\n",
            "\tlower center\n",
            "\tupper center\n",
            "\tcenter\n",
            "This will raise an exception in 3.3.\n",
            "  \n"
          ]
        },
        {
          "output_type": "display_data",
          "data": {
            "text/plain": [
              "<Figure size 432x288 with 1 Axes>"
            ],
            "image/png": "[encoded data removed]"
          },
          "metadata": {
            "needs_background": "light"
          }
        }
      ]
    },
    {
      "cell_type": "code",
      "source": [
        "import numpy as np \n",
        "x = np.array( [[[0, 1, 2, 3, 4], [5, 6, 7, 8, 9]],\n",
        "               [[10, 11, 12, 13, 14], [15, 16, 17, 18, 19]],\n",
        "               [[20, 21, 22, 23, 24], [25, 26, 27, 28, 29]],]\n",
        "             )\n",
        "x.ndim\n",
        "x.shape"
      ],
      "metadata": {
        "colab": {
          "base_uri": "https://localhost:8080/"
        },
        "id": "sa9zRu7Kfm2D",
        "outputId": "a455cead-f553-4db9-e910-037041489c43"
      },
      "execution_count": 26,
      "outputs": [
        {
          "output_type": "execute_result",
          "data": {
            "text/plain": [
              "(3, 2, 5)"
            ]
          },
          "metadata": {},
          "execution_count": 26
        }
      ]
    }
  ]
}